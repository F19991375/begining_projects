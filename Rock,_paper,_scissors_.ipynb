{
  "nbformat": 4,
  "nbformat_minor": 0,
  "metadata": {
    "colab": {
      "provenance": [],
      "authorship_tag": "ABX9TyOrMzPhlBOGNn0IZQNPI45b",
      "include_colab_link": true
    },
    "kernelspec": {
      "name": "python3",
      "display_name": "Python 3"
    },
    "language_info": {
      "name": "python"
    }
  },
  "cells": [
    {
      "cell_type": "markdown",
      "metadata": {
        "id": "view-in-github",
        "colab_type": "text"
      },
      "source": [
        "<a href=\"https://colab.research.google.com/github/F19991375/begining_projects/blob/project-1/Rock%2C_paper%2C_scissors_.ipynb\" target=\"_parent\"><img src=\"https://colab.research.google.com/assets/colab-badge.svg\" alt=\"Open In Colab\"/></a>"
      ]
    },
    {
      "cell_type": "code",
      "source": [
        "import random\n",
        "while True:\n",
        "  user_action = input(\"Choose one (Rock/Paper/Siccors): \\n\")\n",
        "  possible_actions = [\"Rock\",\"Paper\",\"Siccors\"]\n",
        "  computer_action = random.choice(possible_actions)\n",
        "  print(f\"You chose {user_action} and the computer chose {computer_action}\\n\")\n",
        "  if user_action == computer_action:\n",
        "    print(f\"Both players chose {user_action}. It's a tie!\\n\")\n",
        "  elif user_action == \"Rock\":\n",
        "    if computer_action == \"Siccors\":\n",
        "      print(\"Rock smashes the siccors. You win!(:\\n\")\n",
        "    else:\n",
        "      print(\"Paper covers the siccors. Yoe lose!):\\n\")\n",
        "  elif user_action == \"Paper\":\n",
        "    if computer_action == \"Rock\":\n",
        "      print(\"Paper covers the rock. You win!(:\\n\")\n",
        "    else:\n",
        "      print(\"Siccors cuts the paper. You lose!):\\n\")\n",
        "  elif user_action == \"Siccors\":\n",
        "    if computer_action == \"Rock\":\n",
        "      print(\"Rock smashes the siccors. You lose!):\\n\")\n",
        "    else:\n",
        "      print(\"siccors cuts the paper. You win!(:\\n\")\n",
        "  play_again = input(\"Do you want to play again? (y/n)\\n\")\n",
        "  if play_again != \"y\":\n",
        "    break\n",
        "\n",
        ""
      ],
      "metadata": {
        "colab": {
          "base_uri": "https://localhost:8080/"
        },
        "id": "rV7BLVStJhJ_",
        "outputId": "3f95716f-78ab-4329-c09c-0620af873c5c"
      },
      "execution_count": 13,
      "outputs": [
        {
          "name": "stdout",
          "output_type": "stream",
          "text": [
            "Choose one (Rock/Paper/Siccors): \n",
            "Siccors\n",
            "You chose Siccors and the computer chose Rock\n",
            "\n",
            "Rock smashes the siccors. You lose!):\n",
            "\n",
            "Do you want to play again? (y/n)\n",
            "y\n",
            "Choose one (Rock/Paper/Siccors): \n",
            "Rock\n",
            "You chose Rock and the computer chose Siccors\n",
            "\n",
            "Rock smashes the siccors. You win!(:\n",
            "\n",
            "Do you want to play again? (y/n)\n",
            "n\n"
          ]
        }
      ]
    }
  ]
}