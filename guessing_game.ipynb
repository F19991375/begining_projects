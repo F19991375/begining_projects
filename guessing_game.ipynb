{
  "nbformat": 4,
  "nbformat_minor": 0,
  "metadata": {
    "colab": {
      "provenance": [],
      "authorship_tag": "ABX9TyNbSkouTSh2/tCdSf2/8OjD",
      "include_colab_link": true
    },
    "kernelspec": {
      "name": "python3",
      "display_name": "Python 3"
    },
    "language_info": {
      "name": "python"
    }
  },
  "cells": [
    {
      "cell_type": "markdown",
      "metadata": {
        "id": "view-in-github",
        "colab_type": "text"
      },
      "source": [
        "<a href=\"https://colab.research.google.com/github/F19991375/begining_projects/blob/project-1/guessing_game.ipynb\" target=\"_parent\"><img src=\"https://colab.research.google.com/assets/colab-badge.svg\" alt=\"Open In Colab\"/></a>"
      ]
    },
    {
      "cell_type": "code",
      "source": [
        "import math\n",
        "import random\n",
        "lower = int(input())\n",
        "upper = int(input())\n",
        "x = random.randint(lower,upper)\n",
        "print(\"\\n\\t You have only\",\n",
        "      round(math.log(upper-lower+1,2)),\n",
        "      \"chances to guess the integer!\\n\")\n",
        "count = 0\n",
        "while count<math.log(upper-lower+1,2):\n",
        "  count+=1\n",
        "  guess = int(input(\"Guess a number!\"))\n",
        "  if x == guess:\n",
        "    print(\"Congratulation! You did it in\",\n",
        "          count,\"try!\")\n",
        "    break\n",
        "  elif x> guess:\n",
        "    print(\"You guessed too low!\")\n",
        "  elif x < guess:\n",
        "    print(\"You guessed too high!\")\n",
        "\n",
        "if count >= math.log(upper-lower+1,2):\n",
        "  print(\"The number is\",x)\n",
        "  print(\"Better luck next time!\")"
      ],
      "metadata": {
        "colab": {
          "base_uri": "https://localhost:8080/"
        },
        "id": "h069pCA3bQSn",
        "outputId": "2572948c-0632-4a33-ca13-570df22d78e5"
      },
      "execution_count": 1,
      "outputs": [
        {
          "output_type": "stream",
          "name": "stdout",
          "text": [
            "5\n",
            "100\n",
            "\n",
            "\t You have only 7 chances to guess the integer!\n",
            "\n",
            "Guess a number!5\n",
            "You guessed too low!\n",
            "Guess a number!40\n",
            "You guessed too high!\n",
            "Guess a number!30\n",
            "You guessed too low!\n",
            "Guess a number!35\n",
            "You guessed too high!\n",
            "Guess a number!34\n",
            "You guessed too high!\n",
            "Guess a number!33\n",
            "Congratulation! You did it in 6 try!\n"
          ]
        }
      ]
    }
  ]
}